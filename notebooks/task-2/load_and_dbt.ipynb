{
 "cells": [
  {
   "cell_type": "code",
   "execution_count": 5,
   "id": "7b1ccaa5",
   "metadata": {},
   "outputs": [
    {
     "name": "stdout",
     "output_type": "stream",
     "text": [
      "src path added: c:\\Users\\ABC\\Desktop\\10Acadamy\\week_7\\Shipping-a-Data-Product\\src\n"
     ]
    }
   ],
   "source": [
    "import sys\n",
    "import os\n",
    "\n",
    "# Go two levels up from the notebook to the project root\n",
    "project_root = os.path.abspath(os.path.join(os.getcwd(), \"../..\"))\n",
    "\n",
    "# Join the path to 'src'\n",
    "src_path = os.path.join(project_root, \"src\")\n",
    "\n",
    "# Add 'src' to Python path\n",
    "if src_path not in sys.path:\n",
    "    sys.path.append(src_path)\n",
    "\n",
    "# Confirm it's added\n",
    "print(\"src path added:\", src_path)\n"
   ]
  },
  {
   "cell_type": "code",
   "execution_count": 6,
   "id": "f49aa461",
   "metadata": {},
   "outputs": [],
   "source": [
    "# 2️⃣ Load .env and set PYTHONPATH\n",
    "import os, sys\n",
    "from dotenv import load_dotenv\n",
    "from pathlib import Path\n",
    "\n",
    "project_root = Path().cwd().parent / \"Shipping-a-Data-Product\"\n",
    "load_dotenv(dotenv_path=project_root / \".env\")\n",
    "sys.path.append(str(project_root / \"src\"))\n"
   ]
  },
  {
   "cell_type": "code",
   "execution_count": 7,
   "id": "cfdf4f07",
   "metadata": {},
   "outputs": [],
   "source": [
    "# 3️⃣ Run raw_loader to ingest JSON & images\n",
    "from raw_loader import load_messages, load_images\n",
    "\n",
    "# Load yesterday’s (or today’s) partitions\n",
    "load_messages(date_str=\"2025-07-13\")\n",
    "load_images(date_str=\"2025-07-13\")\n"
   ]
  },
  {
   "cell_type": "code",
   "execution_count": 8,
   "id": "727d7563",
   "metadata": {},
   "outputs": [
    {
     "name": "stdout",
     "output_type": "stream",
     "text": [
      "env: DBT_PROFILES_DIR=./dbt_project\n"
     ]
    },
    {
     "name": "stderr",
     "output_type": "stream",
     "text": [
      "Usage: dbt deps [OPTIONS]\n",
      "Try 'dbt deps -h' for help.\n",
      "\n",
      "Error: Got unexpected extra arguments (# fetches any packages)\n",
      "Usage: dbt seed [OPTIONS]\n",
      "Try 'dbt seed -h' for help.\n",
      "\n",
      "Error: Invalid value for '--profiles-dir': Path './dbt_project' does not exist.\n",
      "Usage: dbt run [OPTIONS]\n",
      "Try 'dbt run -h' for help.\n",
      "\n",
      "Error: Invalid value for '--profiles-dir': Path './dbt_project' does not exist.\n",
      "Usage: dbt test [OPTIONS]\n",
      "Try 'dbt test -h' for help.\n",
      "\n",
      "Error: Invalid value for '--profiles-dir': Path './dbt_project' does not exist.\n"
     ]
    }
   ],
   "source": [
    "# 4️⃣ Install & run dbt to build staging + marts\n",
    "%env DBT_PROFILES_DIR=./dbt_project\n",
    "!dbt deps   # fetches any packages\n",
    "!dbt seed   # if you have any seeds\n",
    "!dbt run    # builds models in analytics schema\n",
    "!dbt test   # runs built-in tests\n"
   ]
  }
 ],
 "metadata": {
  "kernelspec": {
   "display_name": ".venv",
   "language": "python",
   "name": "python3"
  },
  "language_info": {
   "codemirror_mode": {
    "name": "ipython",
    "version": 3
   },
   "file_extension": ".py",
   "mimetype": "text/x-python",
   "name": "python",
   "nbconvert_exporter": "python",
   "pygments_lexer": "ipython3",
   "version": "3.13.2"
  }
 },
 "nbformat": 4,
 "nbformat_minor": 5
}
